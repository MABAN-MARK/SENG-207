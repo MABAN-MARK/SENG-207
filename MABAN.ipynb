{
 "cells": [
  {
   "cell_type": "markdown",
   "id": "d4e6d8e7",
   "metadata": {},
   "source": [
    "### MABAN KWAME MARK\n",
    "### 10990509\n",
    "### Biomedical Engineering\n",
    "### Project 1\n"
   ]
  },
  {
   "cell_type": "code",
   "execution_count": 156,
   "id": "bcb69490",
   "metadata": {},
   "outputs": [],
   "source": [
    "import pandas  as pd\n",
    "import seaborn as sns\n",
    "import matplotlib.pyplot as plt\n",
    "\n",
    "\n",
    "import numpy as np\n",
    "from sklearn.linear_model import LinearRegression"
   ]
  },
  {
   "cell_type": "code",
   "execution_count": 157,
   "id": "1b882f3d",
   "metadata": {},
   "outputs": [
    {
     "data": {
      "text/html": [
       "<div>\n",
       "<style scoped>\n",
       "    .dataframe tbody tr th:only-of-type {\n",
       "        vertical-align: middle;\n",
       "    }\n",
       "\n",
       "    .dataframe tbody tr th {\n",
       "        vertical-align: top;\n",
       "    }\n",
       "\n",
       "    .dataframe thead th {\n",
       "        text-align: right;\n",
       "    }\n",
       "</style>\n",
       "<table border=\"1\" class=\"dataframe\">\n",
       "  <thead>\n",
       "    <tr style=\"text-align: right;\">\n",
       "      <th></th>\n",
       "      <th>ID</th>\n",
       "      <th>fixed acidity</th>\n",
       "      <th>volatile acidity</th>\n",
       "      <th>citric acid</th>\n",
       "      <th>residual sugar</th>\n",
       "      <th>chlorides</th>\n",
       "      <th>free sulfur dioxide</th>\n",
       "      <th>total sulfur dioxide</th>\n",
       "      <th>density</th>\n",
       "      <th>pH</th>\n",
       "      <th>sulphates</th>\n",
       "      <th>alcohol</th>\n",
       "      <th>quality</th>\n",
       "    </tr>\n",
       "  </thead>\n",
       "  <tbody>\n",
       "    <tr>\n",
       "      <th>0</th>\n",
       "      <td>1</td>\n",
       "      <td>7.4</td>\n",
       "      <td>0.700</td>\n",
       "      <td>0.00</td>\n",
       "      <td>1.9</td>\n",
       "      <td>0.076</td>\n",
       "      <td>11.0</td>\n",
       "      <td>34.0</td>\n",
       "      <td>0.99780</td>\n",
       "      <td>3.51</td>\n",
       "      <td>0.56</td>\n",
       "      <td>9.4</td>\n",
       "      <td>5.0</td>\n",
       "    </tr>\n",
       "    <tr>\n",
       "      <th>1</th>\n",
       "      <td>2</td>\n",
       "      <td>7.8</td>\n",
       "      <td>0.880</td>\n",
       "      <td>0.00</td>\n",
       "      <td>2.6</td>\n",
       "      <td>0.098</td>\n",
       "      <td>25.0</td>\n",
       "      <td>67.0</td>\n",
       "      <td>0.99680</td>\n",
       "      <td>3.20</td>\n",
       "      <td>0.68</td>\n",
       "      <td>9.8</td>\n",
       "      <td>5.0</td>\n",
       "    </tr>\n",
       "    <tr>\n",
       "      <th>2</th>\n",
       "      <td>3</td>\n",
       "      <td>7.8</td>\n",
       "      <td>0.760</td>\n",
       "      <td>0.04</td>\n",
       "      <td>2.3</td>\n",
       "      <td>0.092</td>\n",
       "      <td>15.0</td>\n",
       "      <td>54.0</td>\n",
       "      <td>0.99700</td>\n",
       "      <td>NaN</td>\n",
       "      <td>0.65</td>\n",
       "      <td>9.8</td>\n",
       "      <td>5.0</td>\n",
       "    </tr>\n",
       "    <tr>\n",
       "      <th>3</th>\n",
       "      <td>4</td>\n",
       "      <td>11.2</td>\n",
       "      <td>0.280</td>\n",
       "      <td>0.56</td>\n",
       "      <td>1.9</td>\n",
       "      <td>0.075</td>\n",
       "      <td>17.0</td>\n",
       "      <td>60.0</td>\n",
       "      <td>0.99800</td>\n",
       "      <td>3.16</td>\n",
       "      <td>0.58</td>\n",
       "      <td>9.8</td>\n",
       "      <td>6.0</td>\n",
       "    </tr>\n",
       "    <tr>\n",
       "      <th>4</th>\n",
       "      <td>5</td>\n",
       "      <td>7.4</td>\n",
       "      <td>0.700</td>\n",
       "      <td>0.00</td>\n",
       "      <td>1.9</td>\n",
       "      <td>0.076</td>\n",
       "      <td>11.0</td>\n",
       "      <td>34.0</td>\n",
       "      <td>0.99780</td>\n",
       "      <td>3.51</td>\n",
       "      <td>0.56</td>\n",
       "      <td>9.4</td>\n",
       "      <td>5.0</td>\n",
       "    </tr>\n",
       "    <tr>\n",
       "      <th>...</th>\n",
       "      <td>...</td>\n",
       "      <td>...</td>\n",
       "      <td>...</td>\n",
       "      <td>...</td>\n",
       "      <td>...</td>\n",
       "      <td>...</td>\n",
       "      <td>...</td>\n",
       "      <td>...</td>\n",
       "      <td>...</td>\n",
       "      <td>...</td>\n",
       "      <td>...</td>\n",
       "      <td>...</td>\n",
       "      <td>...</td>\n",
       "    </tr>\n",
       "    <tr>\n",
       "      <th>1596</th>\n",
       "      <td>1597</td>\n",
       "      <td>5.9</td>\n",
       "      <td>0.550</td>\n",
       "      <td>0.10</td>\n",
       "      <td>2.2</td>\n",
       "      <td>0.062</td>\n",
       "      <td>39.0</td>\n",
       "      <td>51.0</td>\n",
       "      <td>0.99512</td>\n",
       "      <td>3.52</td>\n",
       "      <td>0.76</td>\n",
       "      <td>11.2</td>\n",
       "      <td>6.0</td>\n",
       "    </tr>\n",
       "    <tr>\n",
       "      <th>1597</th>\n",
       "      <td>1598</td>\n",
       "      <td>6.3</td>\n",
       "      <td>0.510</td>\n",
       "      <td>0.13</td>\n",
       "      <td>2.3</td>\n",
       "      <td>0.076</td>\n",
       "      <td>29.0</td>\n",
       "      <td>40.0</td>\n",
       "      <td>0.99574</td>\n",
       "      <td>3.42</td>\n",
       "      <td>0.75</td>\n",
       "      <td>11.0</td>\n",
       "      <td>6.0</td>\n",
       "    </tr>\n",
       "    <tr>\n",
       "      <th>1598</th>\n",
       "      <td>1599</td>\n",
       "      <td>5.9</td>\n",
       "      <td>0.645</td>\n",
       "      <td>0.12</td>\n",
       "      <td>2.0</td>\n",
       "      <td>0.075</td>\n",
       "      <td>32.0</td>\n",
       "      <td>44.0</td>\n",
       "      <td>0.99547</td>\n",
       "      <td>3.57</td>\n",
       "      <td>0.71</td>\n",
       "      <td>10.2</td>\n",
       "      <td>5.0</td>\n",
       "    </tr>\n",
       "    <tr>\n",
       "      <th>1599</th>\n",
       "      <td>1600</td>\n",
       "      <td>6.0</td>\n",
       "      <td>0.310</td>\n",
       "      <td>0.47</td>\n",
       "      <td>3.6</td>\n",
       "      <td>0.067</td>\n",
       "      <td>18.0</td>\n",
       "      <td>42.0</td>\n",
       "      <td>0.99549</td>\n",
       "      <td>3.39</td>\n",
       "      <td>0.66</td>\n",
       "      <td>11.0</td>\n",
       "      <td>6.0</td>\n",
       "    </tr>\n",
       "    <tr>\n",
       "      <th>1600</th>\n",
       "      <td>1601</td>\n",
       "      <td>7.2</td>\n",
       "      <td>0.390</td>\n",
       "      <td>0.44</td>\n",
       "      <td>2.6</td>\n",
       "      <td>0.066</td>\n",
       "      <td>22.0</td>\n",
       "      <td>48.0</td>\n",
       "      <td>0.99494</td>\n",
       "      <td>3.30</td>\n",
       "      <td>0.84</td>\n",
       "      <td>11.5</td>\n",
       "      <td>6.0</td>\n",
       "    </tr>\n",
       "  </tbody>\n",
       "</table>\n",
       "<p>1601 rows × 13 columns</p>\n",
       "</div>"
      ],
      "text/plain": [
       "        ID  fixed acidity  volatile acidity  citric acid  residual sugar  \\\n",
       "0        1            7.4             0.700         0.00             1.9   \n",
       "1        2            7.8             0.880         0.00             2.6   \n",
       "2        3            7.8             0.760         0.04             2.3   \n",
       "3        4           11.2             0.280         0.56             1.9   \n",
       "4        5            7.4             0.700         0.00             1.9   \n",
       "...    ...            ...               ...          ...             ...   \n",
       "1596  1597            5.9             0.550         0.10             2.2   \n",
       "1597  1598            6.3             0.510         0.13             2.3   \n",
       "1598  1599            5.9             0.645         0.12             2.0   \n",
       "1599  1600            6.0             0.310         0.47             3.6   \n",
       "1600  1601            7.2             0.390         0.44             2.6   \n",
       "\n",
       "      chlorides  free sulfur dioxide  total sulfur dioxide  density    pH  \\\n",
       "0         0.076                 11.0                  34.0  0.99780  3.51   \n",
       "1         0.098                 25.0                  67.0  0.99680  3.20   \n",
       "2         0.092                 15.0                  54.0  0.99700   NaN   \n",
       "3         0.075                 17.0                  60.0  0.99800  3.16   \n",
       "4         0.076                 11.0                  34.0  0.99780  3.51   \n",
       "...         ...                  ...                   ...      ...   ...   \n",
       "1596      0.062                 39.0                  51.0  0.99512  3.52   \n",
       "1597      0.076                 29.0                  40.0  0.99574  3.42   \n",
       "1598      0.075                 32.0                  44.0  0.99547  3.57   \n",
       "1599      0.067                 18.0                  42.0  0.99549  3.39   \n",
       "1600      0.066                 22.0                  48.0  0.99494  3.30   \n",
       "\n",
       "      sulphates  alcohol  quality  \n",
       "0          0.56      9.4      5.0  \n",
       "1          0.68      9.8      5.0  \n",
       "2          0.65      9.8      5.0  \n",
       "3          0.58      9.8      6.0  \n",
       "4          0.56      9.4      5.0  \n",
       "...         ...      ...      ...  \n",
       "1596       0.76     11.2      6.0  \n",
       "1597       0.75     11.0      6.0  \n",
       "1598       0.71     10.2      5.0  \n",
       "1599       0.66     11.0      6.0  \n",
       "1600       0.84     11.5      6.0  \n",
       "\n",
       "[1601 rows x 13 columns]"
      ]
     },
     "execution_count": 157,
     "metadata": {},
     "output_type": "execute_result"
    }
   ],
   "source": [
    "\n",
    "df = pd.read_csv('data.csv')\n",
    "df\n",
    "\n",
    "\n",
    "\n"
   ]
  },
  {
   "cell_type": "markdown",
   "id": "7f69af03",
   "metadata": {},
   "source": [
    "### Getting some information on the various parameters within the data\n"
   ]
  },
  {
   "cell_type": "code",
   "execution_count": 158,
   "id": "139f4af6",
   "metadata": {},
   "outputs": [
    {
     "name": "stdout",
     "output_type": "stream",
     "text": [
      "<class 'pandas.core.frame.DataFrame'>\n",
      "RangeIndex: 1601 entries, 0 to 1600\n",
      "Data columns (total 13 columns):\n",
      " #   Column                Non-Null Count  Dtype  \n",
      "---  ------                --------------  -----  \n",
      " 0   ID                    1601 non-null   int64  \n",
      " 1   fixed acidity         1600 non-null   float64\n",
      " 2   volatile acidity      1601 non-null   float64\n",
      " 3   citric acid           1600 non-null   float64\n",
      " 4   residual sugar        1601 non-null   float64\n",
      " 5   chlorides             1598 non-null   float64\n",
      " 6   free sulfur dioxide   1600 non-null   float64\n",
      " 7   total sulfur dioxide  1600 non-null   float64\n",
      " 8   density               1600 non-null   float64\n",
      " 9   pH                    1600 non-null   float64\n",
      " 10  sulphates             1601 non-null   float64\n",
      " 11  alcohol               1601 non-null   float64\n",
      " 12  quality               1600 non-null   float64\n",
      "dtypes: float64(12), int64(1)\n",
      "memory usage: 162.7 KB\n"
     ]
    }
   ],
   "source": [
    "df.info()"
   ]
  },
  {
   "cell_type": "markdown",
   "id": "fd5d7bd7",
   "metadata": {},
   "source": [
    "### frow the info data , there are some missing  data values that must be fixed "
   ]
  },
  {
   "cell_type": "code",
   "execution_count": 159,
   "id": "a46aa9ee",
   "metadata": {},
   "outputs": [
    {
     "data": {
      "text/html": [
       "<div>\n",
       "<style scoped>\n",
       "    .dataframe tbody tr th:only-of-type {\n",
       "        vertical-align: middle;\n",
       "    }\n",
       "\n",
       "    .dataframe tbody tr th {\n",
       "        vertical-align: top;\n",
       "    }\n",
       "\n",
       "    .dataframe thead th {\n",
       "        text-align: right;\n",
       "    }\n",
       "</style>\n",
       "<table border=\"1\" class=\"dataframe\">\n",
       "  <thead>\n",
       "    <tr style=\"text-align: right;\">\n",
       "      <th></th>\n",
       "      <th>ID</th>\n",
       "      <th>fixed acidity</th>\n",
       "      <th>volatile acidity</th>\n",
       "      <th>citric acid</th>\n",
       "      <th>residual sugar</th>\n",
       "      <th>chlorides</th>\n",
       "      <th>free sulfur dioxide</th>\n",
       "      <th>total sulfur dioxide</th>\n",
       "      <th>density</th>\n",
       "      <th>pH</th>\n",
       "      <th>sulphates</th>\n",
       "      <th>alcohol</th>\n",
       "      <th>quality</th>\n",
       "    </tr>\n",
       "  </thead>\n",
       "  <tbody>\n",
       "    <tr>\n",
       "      <th>1596</th>\n",
       "      <td>1597</td>\n",
       "      <td>5.9</td>\n",
       "      <td>0.550</td>\n",
       "      <td>0.10</td>\n",
       "      <td>2.2</td>\n",
       "      <td>0.062</td>\n",
       "      <td>39.0</td>\n",
       "      <td>51.0</td>\n",
       "      <td>0.99512</td>\n",
       "      <td>3.52</td>\n",
       "      <td>0.76</td>\n",
       "      <td>11.2</td>\n",
       "      <td>6.0</td>\n",
       "    </tr>\n",
       "    <tr>\n",
       "      <th>1597</th>\n",
       "      <td>1598</td>\n",
       "      <td>6.3</td>\n",
       "      <td>0.510</td>\n",
       "      <td>0.13</td>\n",
       "      <td>2.3</td>\n",
       "      <td>0.076</td>\n",
       "      <td>29.0</td>\n",
       "      <td>40.0</td>\n",
       "      <td>0.99574</td>\n",
       "      <td>3.42</td>\n",
       "      <td>0.75</td>\n",
       "      <td>11.0</td>\n",
       "      <td>6.0</td>\n",
       "    </tr>\n",
       "    <tr>\n",
       "      <th>1598</th>\n",
       "      <td>1599</td>\n",
       "      <td>5.9</td>\n",
       "      <td>0.645</td>\n",
       "      <td>0.12</td>\n",
       "      <td>2.0</td>\n",
       "      <td>0.075</td>\n",
       "      <td>32.0</td>\n",
       "      <td>44.0</td>\n",
       "      <td>0.99547</td>\n",
       "      <td>3.57</td>\n",
       "      <td>0.71</td>\n",
       "      <td>10.2</td>\n",
       "      <td>5.0</td>\n",
       "    </tr>\n",
       "    <tr>\n",
       "      <th>1599</th>\n",
       "      <td>1600</td>\n",
       "      <td>6.0</td>\n",
       "      <td>0.310</td>\n",
       "      <td>0.47</td>\n",
       "      <td>3.6</td>\n",
       "      <td>0.067</td>\n",
       "      <td>18.0</td>\n",
       "      <td>42.0</td>\n",
       "      <td>0.99549</td>\n",
       "      <td>3.39</td>\n",
       "      <td>0.66</td>\n",
       "      <td>11.0</td>\n",
       "      <td>6.0</td>\n",
       "    </tr>\n",
       "    <tr>\n",
       "      <th>1600</th>\n",
       "      <td>1601</td>\n",
       "      <td>7.2</td>\n",
       "      <td>0.390</td>\n",
       "      <td>0.44</td>\n",
       "      <td>2.6</td>\n",
       "      <td>0.066</td>\n",
       "      <td>22.0</td>\n",
       "      <td>48.0</td>\n",
       "      <td>0.99494</td>\n",
       "      <td>3.30</td>\n",
       "      <td>0.84</td>\n",
       "      <td>11.5</td>\n",
       "      <td>6.0</td>\n",
       "    </tr>\n",
       "  </tbody>\n",
       "</table>\n",
       "</div>"
      ],
      "text/plain": [
       "        ID  fixed acidity  volatile acidity  citric acid  residual sugar  \\\n",
       "1596  1597            5.9             0.550         0.10             2.2   \n",
       "1597  1598            6.3             0.510         0.13             2.3   \n",
       "1598  1599            5.9             0.645         0.12             2.0   \n",
       "1599  1600            6.0             0.310         0.47             3.6   \n",
       "1600  1601            7.2             0.390         0.44             2.6   \n",
       "\n",
       "      chlorides  free sulfur dioxide  total sulfur dioxide  density    pH  \\\n",
       "1596      0.062                 39.0                  51.0  0.99512  3.52   \n",
       "1597      0.076                 29.0                  40.0  0.99574  3.42   \n",
       "1598      0.075                 32.0                  44.0  0.99547  3.57   \n",
       "1599      0.067                 18.0                  42.0  0.99549  3.39   \n",
       "1600      0.066                 22.0                  48.0  0.99494  3.30   \n",
       "\n",
       "      sulphates  alcohol  quality  \n",
       "1596       0.76     11.2      6.0  \n",
       "1597       0.75     11.0      6.0  \n",
       "1598       0.71     10.2      5.0  \n",
       "1599       0.66     11.0      6.0  \n",
       "1600       0.84     11.5      6.0  "
      ]
     },
     "execution_count": 159,
     "metadata": {},
     "output_type": "execute_result"
    }
   ],
   "source": [
    "df.tail()"
   ]
  },
  {
   "cell_type": "code",
   "execution_count": 160,
   "id": "7c53c4d7",
   "metadata": {
    "scrolled": true
   },
   "outputs": [
    {
     "data": {
      "text/html": [
       "<div>\n",
       "<style scoped>\n",
       "    .dataframe tbody tr th:only-of-type {\n",
       "        vertical-align: middle;\n",
       "    }\n",
       "\n",
       "    .dataframe tbody tr th {\n",
       "        vertical-align: top;\n",
       "    }\n",
       "\n",
       "    .dataframe thead th {\n",
       "        text-align: right;\n",
       "    }\n",
       "</style>\n",
       "<table border=\"1\" class=\"dataframe\">\n",
       "  <thead>\n",
       "    <tr style=\"text-align: right;\">\n",
       "      <th></th>\n",
       "      <th>ID</th>\n",
       "      <th>fixed acidity</th>\n",
       "      <th>volatile acidity</th>\n",
       "      <th>citric acid</th>\n",
       "      <th>residual sugar</th>\n",
       "      <th>chlorides</th>\n",
       "      <th>free sulfur dioxide</th>\n",
       "      <th>total sulfur dioxide</th>\n",
       "      <th>density</th>\n",
       "      <th>pH</th>\n",
       "      <th>sulphates</th>\n",
       "      <th>alcohol</th>\n",
       "      <th>quality</th>\n",
       "    </tr>\n",
       "  </thead>\n",
       "  <tbody>\n",
       "    <tr>\n",
       "      <th>count</th>\n",
       "      <td>1601.000000</td>\n",
       "      <td>1600.000000</td>\n",
       "      <td>1601.000000</td>\n",
       "      <td>1600.000000</td>\n",
       "      <td>1601.000000</td>\n",
       "      <td>1598.000000</td>\n",
       "      <td>1600.000000</td>\n",
       "      <td>1600.000000</td>\n",
       "      <td>1600.000000</td>\n",
       "      <td>1600.000000</td>\n",
       "      <td>1601.000000</td>\n",
       "      <td>1601.000000</td>\n",
       "      <td>1600.000000</td>\n",
       "    </tr>\n",
       "    <tr>\n",
       "      <th>mean</th>\n",
       "      <td>801.000000</td>\n",
       "      <td>8.319875</td>\n",
       "      <td>0.527742</td>\n",
       "      <td>0.271175</td>\n",
       "      <td>2.538445</td>\n",
       "      <td>0.087487</td>\n",
       "      <td>15.886875</td>\n",
       "      <td>46.520000</td>\n",
       "      <td>0.996746</td>\n",
       "      <td>3.311106</td>\n",
       "      <td>0.658220</td>\n",
       "      <td>10.423204</td>\n",
       "      <td>5.636250</td>\n",
       "    </tr>\n",
       "    <tr>\n",
       "      <th>std</th>\n",
       "      <td>462.313206</td>\n",
       "      <td>1.740039</td>\n",
       "      <td>0.178981</td>\n",
       "      <td>0.194745</td>\n",
       "      <td>1.409138</td>\n",
       "      <td>0.047076</td>\n",
       "      <td>10.458487</td>\n",
       "      <td>32.977723</td>\n",
       "      <td>0.001887</td>\n",
       "      <td>0.154338</td>\n",
       "      <td>0.169471</td>\n",
       "      <td>1.065495</td>\n",
       "      <td>0.807368</td>\n",
       "    </tr>\n",
       "    <tr>\n",
       "      <th>min</th>\n",
       "      <td>1.000000</td>\n",
       "      <td>4.600000</td>\n",
       "      <td>0.120000</td>\n",
       "      <td>0.000000</td>\n",
       "      <td>0.900000</td>\n",
       "      <td>0.012000</td>\n",
       "      <td>1.000000</td>\n",
       "      <td>6.000000</td>\n",
       "      <td>0.990070</td>\n",
       "      <td>2.740000</td>\n",
       "      <td>0.330000</td>\n",
       "      <td>8.400000</td>\n",
       "      <td>3.000000</td>\n",
       "    </tr>\n",
       "    <tr>\n",
       "      <th>25%</th>\n",
       "      <td>401.000000</td>\n",
       "      <td>7.100000</td>\n",
       "      <td>0.390000</td>\n",
       "      <td>0.090000</td>\n",
       "      <td>1.900000</td>\n",
       "      <td>0.070000</td>\n",
       "      <td>7.000000</td>\n",
       "      <td>22.000000</td>\n",
       "      <td>0.995600</td>\n",
       "      <td>3.210000</td>\n",
       "      <td>0.550000</td>\n",
       "      <td>9.500000</td>\n",
       "      <td>5.000000</td>\n",
       "    </tr>\n",
       "    <tr>\n",
       "      <th>50%</th>\n",
       "      <td>801.000000</td>\n",
       "      <td>7.900000</td>\n",
       "      <td>0.520000</td>\n",
       "      <td>0.260000</td>\n",
       "      <td>2.200000</td>\n",
       "      <td>0.079000</td>\n",
       "      <td>14.000000</td>\n",
       "      <td>38.000000</td>\n",
       "      <td>0.996750</td>\n",
       "      <td>3.310000</td>\n",
       "      <td>0.620000</td>\n",
       "      <td>10.200000</td>\n",
       "      <td>6.000000</td>\n",
       "    </tr>\n",
       "    <tr>\n",
       "      <th>75%</th>\n",
       "      <td>1201.000000</td>\n",
       "      <td>9.200000</td>\n",
       "      <td>0.640000</td>\n",
       "      <td>0.420000</td>\n",
       "      <td>2.600000</td>\n",
       "      <td>0.090000</td>\n",
       "      <td>21.250000</td>\n",
       "      <td>62.000000</td>\n",
       "      <td>0.997833</td>\n",
       "      <td>3.400000</td>\n",
       "      <td>0.730000</td>\n",
       "      <td>11.100000</td>\n",
       "      <td>6.000000</td>\n",
       "    </tr>\n",
       "    <tr>\n",
       "      <th>max</th>\n",
       "      <td>1601.000000</td>\n",
       "      <td>15.900000</td>\n",
       "      <td>1.580000</td>\n",
       "      <td>1.000000</td>\n",
       "      <td>15.500000</td>\n",
       "      <td>0.611000</td>\n",
       "      <td>72.000000</td>\n",
       "      <td>289.000000</td>\n",
       "      <td>1.003690</td>\n",
       "      <td>4.010000</td>\n",
       "      <td>2.000000</td>\n",
       "      <td>14.900000</td>\n",
       "      <td>8.000000</td>\n",
       "    </tr>\n",
       "  </tbody>\n",
       "</table>\n",
       "</div>"
      ],
      "text/plain": [
       "                ID  fixed acidity  volatile acidity  citric acid  \\\n",
       "count  1601.000000    1600.000000       1601.000000  1600.000000   \n",
       "mean    801.000000       8.319875          0.527742     0.271175   \n",
       "std     462.313206       1.740039          0.178981     0.194745   \n",
       "min       1.000000       4.600000          0.120000     0.000000   \n",
       "25%     401.000000       7.100000          0.390000     0.090000   \n",
       "50%     801.000000       7.900000          0.520000     0.260000   \n",
       "75%    1201.000000       9.200000          0.640000     0.420000   \n",
       "max    1601.000000      15.900000          1.580000     1.000000   \n",
       "\n",
       "       residual sugar    chlorides  free sulfur dioxide  total sulfur dioxide  \\\n",
       "count     1601.000000  1598.000000          1600.000000           1600.000000   \n",
       "mean         2.538445     0.087487            15.886875             46.520000   \n",
       "std          1.409138     0.047076            10.458487             32.977723   \n",
       "min          0.900000     0.012000             1.000000              6.000000   \n",
       "25%          1.900000     0.070000             7.000000             22.000000   \n",
       "50%          2.200000     0.079000            14.000000             38.000000   \n",
       "75%          2.600000     0.090000            21.250000             62.000000   \n",
       "max         15.500000     0.611000            72.000000            289.000000   \n",
       "\n",
       "           density           pH    sulphates      alcohol      quality  \n",
       "count  1600.000000  1600.000000  1601.000000  1601.000000  1600.000000  \n",
       "mean      0.996746     3.311106     0.658220    10.423204     5.636250  \n",
       "std       0.001887     0.154338     0.169471     1.065495     0.807368  \n",
       "min       0.990070     2.740000     0.330000     8.400000     3.000000  \n",
       "25%       0.995600     3.210000     0.550000     9.500000     5.000000  \n",
       "50%       0.996750     3.310000     0.620000    10.200000     6.000000  \n",
       "75%       0.997833     3.400000     0.730000    11.100000     6.000000  \n",
       "max       1.003690     4.010000     2.000000    14.900000     8.000000  "
      ]
     },
     "execution_count": 160,
     "metadata": {},
     "output_type": "execute_result"
    }
   ],
   "source": [
    "df.describe()"
   ]
  },
  {
   "cell_type": "code",
   "execution_count": 161,
   "id": "6826e1e5",
   "metadata": {},
   "outputs": [
    {
     "data": {
      "text/plain": [
       "(1601, 13)"
      ]
     },
     "execution_count": 161,
     "metadata": {},
     "output_type": "execute_result"
    }
   ],
   "source": [
    "df.shape"
   ]
  },
  {
   "cell_type": "code",
   "execution_count": 162,
   "id": "92f1c4c7",
   "metadata": {},
   "outputs": [],
   "source": [
    "z=df.duplicated()\n",
    "\n"
   ]
  },
  {
   "cell_type": "code",
   "execution_count": 163,
   "id": "7d06e092",
   "metadata": {},
   "outputs": [
    {
     "data": {
      "text/plain": [
       "0       False\n",
       "1       False\n",
       "2       False\n",
       "3       False\n",
       "4       False\n",
       "        ...  \n",
       "1596    False\n",
       "1597    False\n",
       "1598    False\n",
       "1599    False\n",
       "1600    False\n",
       "Length: 1601, dtype: bool"
      ]
     },
     "execution_count": 163,
     "metadata": {},
     "output_type": "execute_result"
    }
   ],
   "source": [
    "z"
   ]
  },
  {
   "cell_type": "markdown",
   "id": "7826a8fb",
   "metadata": {},
   "source": [
    "### From  the above information , some of the columns have missing  values and hence must be filled\n",
    "### To fix the dataset first we must use either the mean , mode or median to  fill in the empty slot(s) with the specific columns. "
   ]
  },
  {
   "cell_type": "code",
   "execution_count": 164,
   "id": "c01f5eaf",
   "metadata": {},
   "outputs": [
    {
     "name": "stdout",
     "output_type": "stream",
     "text": [
      "<class 'pandas.core.frame.DataFrame'>\n",
      "RangeIndex: 1601 entries, 0 to 1600\n",
      "Data columns (total 13 columns):\n",
      " #   Column                Non-Null Count  Dtype  \n",
      "---  ------                --------------  -----  \n",
      " 0   ID                    1601 non-null   int64  \n",
      " 1   fixed acidity         1600 non-null   float64\n",
      " 2   volatile acidity      1601 non-null   float64\n",
      " 3   citric acid           1600 non-null   float64\n",
      " 4   residual sugar        1601 non-null   float64\n",
      " 5   chlorides             1598 non-null   float64\n",
      " 6   free sulfur dioxide   1600 non-null   float64\n",
      " 7   total sulfur dioxide  1600 non-null   float64\n",
      " 8   density               1600 non-null   float64\n",
      " 9   pH                    1600 non-null   float64\n",
      " 10  sulphates             1601 non-null   float64\n",
      " 11  alcohol               1601 non-null   float64\n",
      " 12  quality               1600 non-null   float64\n",
      "dtypes: float64(12), int64(1)\n",
      "memory usage: 162.7 KB\n"
     ]
    }
   ],
   "source": [
    "df.info()"
   ]
  },
  {
   "cell_type": "markdown",
   "id": "4c92f22d",
   "metadata": {},
   "source": [
    "### columns with missing data  quality , pH , total sulfur dioxide , free sulfur dioxide,chlorides, density ,citric acid  and fixed acidity          \n"
   ]
  },
  {
   "cell_type": "markdown",
   "id": "614ce419",
   "metadata": {},
   "source": [
    "### Using the mean approach "
   ]
  },
  {
   "cell_type": "markdown",
   "id": "5813066f",
   "metadata": {},
   "source": [
    "##### Mean of  fixed acidity as mean_fa\n"
   ]
  },
  {
   "cell_type": "code",
   "execution_count": 165,
   "id": "a124902e",
   "metadata": {},
   "outputs": [
    {
     "data": {
      "text/plain": [
       "8.319875000000001"
      ]
     },
     "execution_count": 165,
     "metadata": {},
     "output_type": "execute_result"
    }
   ],
   "source": [
    "mean_fa = df[\"fixed acidity\"].mean()\n",
    "mean_fa\n"
   ]
  },
  {
   "cell_type": "markdown",
   "id": "6d7b20c2",
   "metadata": {},
   "source": [
    "##### mean of citric acid as mean_ca"
   ]
  },
  {
   "cell_type": "code",
   "execution_count": 166,
   "id": "bdb66d65",
   "metadata": {},
   "outputs": [],
   "source": [
    "mean_ca= df[\"citric acid\"].mean()"
   ]
  },
  {
   "cell_type": "code",
   "execution_count": 167,
   "id": "67e3eede",
   "metadata": {},
   "outputs": [
    {
     "data": {
      "text/plain": [
       "0.271175"
      ]
     },
     "execution_count": 167,
     "metadata": {},
     "output_type": "execute_result"
    }
   ],
   "source": [
    "mean_ca"
   ]
  },
  {
   "cell_type": "markdown",
   "id": "71b3a0b8",
   "metadata": {},
   "source": [
    "##### mean of  Chlorides as mean_c"
   ]
  },
  {
   "cell_type": "code",
   "execution_count": 168,
   "id": "bb7f01ad",
   "metadata": {},
   "outputs": [],
   "source": [
    "mean_c=df['chlorides'].mean()"
   ]
  },
  {
   "cell_type": "code",
   "execution_count": 169,
   "id": "a8cc37ad",
   "metadata": {},
   "outputs": [
    {
     "data": {
      "text/plain": [
       "0.0874874843554443"
      ]
     },
     "execution_count": 169,
     "metadata": {},
     "output_type": "execute_result"
    }
   ],
   "source": [
    "mean_c"
   ]
  },
  {
   "cell_type": "markdown",
   "id": "83efa23a",
   "metadata": {},
   "source": [
    "###### mean of  free sulfur dioxide as mean_fds"
   ]
  },
  {
   "cell_type": "code",
   "execution_count": 170,
   "id": "9b8a901d",
   "metadata": {},
   "outputs": [],
   "source": [
    "mean_fds=df[\"free sulfur dioxide\"].mean()"
   ]
  },
  {
   "cell_type": "code",
   "execution_count": 171,
   "id": "57beecbd",
   "metadata": {},
   "outputs": [
    {
     "data": {
      "text/plain": [
       "15.886875"
      ]
     },
     "execution_count": 171,
     "metadata": {},
     "output_type": "execute_result"
    }
   ],
   "source": [
    "mean_fds"
   ]
  },
  {
   "cell_type": "markdown",
   "id": "57dece67",
   "metadata": {},
   "source": [
    "##### mean of total sulfur dioxide as  mean_tsd"
   ]
  },
  {
   "cell_type": "code",
   "execution_count": 172,
   "id": "909c3f78",
   "metadata": {},
   "outputs": [],
   "source": [
    "mean_tsd=df[\"total sulfur dioxide\"].mean()"
   ]
  },
  {
   "cell_type": "code",
   "execution_count": 173,
   "id": "0aec4762",
   "metadata": {},
   "outputs": [
    {
     "data": {
      "text/plain": [
       "46.52"
      ]
     },
     "execution_count": 173,
     "metadata": {},
     "output_type": "execute_result"
    }
   ],
   "source": [
    "mean_tsd"
   ]
  },
  {
   "cell_type": "markdown",
   "id": "f958e3cb",
   "metadata": {},
   "source": [
    "##### mean of density as mean_d"
   ]
  },
  {
   "cell_type": "code",
   "execution_count": 174,
   "id": "117fc042",
   "metadata": {},
   "outputs": [],
   "source": [
    "mean_d=df['density'].mean()"
   ]
  },
  {
   "cell_type": "code",
   "execution_count": 175,
   "id": "ba60d216",
   "metadata": {},
   "outputs": [
    {
     "data": {
      "text/plain": [
       "0.9967456437500002"
      ]
     },
     "execution_count": 175,
     "metadata": {},
     "output_type": "execute_result"
    }
   ],
   "source": [
    "mean_d"
   ]
  },
  {
   "cell_type": "markdown",
   "id": "819cf73e",
   "metadata": {},
   "source": [
    "##### Mean of pH as mean_pH"
   ]
  },
  {
   "cell_type": "code",
   "execution_count": 176,
   "id": "8b59f983",
   "metadata": {},
   "outputs": [],
   "source": [
    "mean_pH=df['pH'].mean()"
   ]
  },
  {
   "cell_type": "code",
   "execution_count": 177,
   "id": "7e40c1b4",
   "metadata": {},
   "outputs": [
    {
     "data": {
      "text/plain": [
       "3.3111062500000004"
      ]
     },
     "execution_count": 177,
     "metadata": {},
     "output_type": "execute_result"
    }
   ],
   "source": [
    "mean_pH"
   ]
  },
  {
   "cell_type": "markdown",
   "id": "1d2ae403",
   "metadata": {},
   "source": [
    "##### Mean of quality as mean_Q"
   ]
  },
  {
   "cell_type": "code",
   "execution_count": 178,
   "id": "ba0571a8",
   "metadata": {},
   "outputs": [],
   "source": [
    "mean_Q= df['quality'].mean()\n"
   ]
  },
  {
   "cell_type": "code",
   "execution_count": 179,
   "id": "a154a5fe",
   "metadata": {},
   "outputs": [
    {
     "data": {
      "text/plain": [
       "5.63625"
      ]
     },
     "execution_count": 179,
     "metadata": {},
     "output_type": "execute_result"
    }
   ],
   "source": [
    "mean_Q"
   ]
  },
  {
   "cell_type": "code",
   "execution_count": 180,
   "id": "e8822437",
   "metadata": {},
   "outputs": [
    {
     "data": {
      "text/plain": [
       "0       3.51\n",
       "1       3.20\n",
       "2        NaN\n",
       "3       3.16\n",
       "4       3.51\n",
       "        ... \n",
       "1596    3.52\n",
       "1597    3.42\n",
       "1598    3.57\n",
       "1599    3.39\n",
       "1600    3.30\n",
       "Name: pH, Length: 1601, dtype: float64"
      ]
     },
     "execution_count": 180,
     "metadata": {},
     "output_type": "execute_result"
    }
   ],
   "source": [
    "df[\"pH\"]\n",
    "\n"
   ]
  },
  {
   "cell_type": "code",
   "execution_count": 181,
   "id": "d5c4bcd8",
   "metadata": {},
   "outputs": [],
   "source": [
    "df[\"total sulfur dioxide\"]=df[\"total sulfur dioxide\"].fillna(mean_tsd)\n",
    "df[\"pH\"]=df[\"pH\"].fillna(mean_pH)\n",
    "df[\"quality\"]=df[\"quality\"].fillna(mean_Q)\n",
    "df[\"fixed acidity\"]=df[\"fixed acidity\"].fillna(mean_fa)\n",
    "df[\"free sulfur dioxide\"]=df[\"free sulfur dioxide\"].fillna(mean_fds)\n",
    "df[\"chlorides\"]=df[\"chlorides\"].fillna(mean_c)\n",
    "df[\"citric acid\"]=df[\"citric acid\"].fillna(mean_ca)\n",
    "df[\"density\"]=df[\"density\"].fillna(mean_d)\n",
    "\n"
   ]
  },
  {
   "cell_type": "code",
   "execution_count": 182,
   "id": "f4ce98bf",
   "metadata": {},
   "outputs": [
    {
     "data": {
      "text/html": [
       "<div>\n",
       "<style scoped>\n",
       "    .dataframe tbody tr th:only-of-type {\n",
       "        vertical-align: middle;\n",
       "    }\n",
       "\n",
       "    .dataframe tbody tr th {\n",
       "        vertical-align: top;\n",
       "    }\n",
       "\n",
       "    .dataframe thead th {\n",
       "        text-align: right;\n",
       "    }\n",
       "</style>\n",
       "<table border=\"1\" class=\"dataframe\">\n",
       "  <thead>\n",
       "    <tr style=\"text-align: right;\">\n",
       "      <th></th>\n",
       "      <th>ID</th>\n",
       "      <th>fixed acidity</th>\n",
       "      <th>volatile acidity</th>\n",
       "      <th>citric acid</th>\n",
       "      <th>residual sugar</th>\n",
       "      <th>chlorides</th>\n",
       "      <th>free sulfur dioxide</th>\n",
       "      <th>total sulfur dioxide</th>\n",
       "      <th>density</th>\n",
       "      <th>pH</th>\n",
       "      <th>sulphates</th>\n",
       "      <th>alcohol</th>\n",
       "      <th>quality</th>\n",
       "    </tr>\n",
       "  </thead>\n",
       "  <tbody>\n",
       "    <tr>\n",
       "      <th>0</th>\n",
       "      <td>1</td>\n",
       "      <td>7.4</td>\n",
       "      <td>0.700</td>\n",
       "      <td>0.00</td>\n",
       "      <td>1.9</td>\n",
       "      <td>0.076</td>\n",
       "      <td>11.0</td>\n",
       "      <td>34.0</td>\n",
       "      <td>0.99780</td>\n",
       "      <td>3.510000</td>\n",
       "      <td>0.56</td>\n",
       "      <td>9.4</td>\n",
       "      <td>5.0</td>\n",
       "    </tr>\n",
       "    <tr>\n",
       "      <th>1</th>\n",
       "      <td>2</td>\n",
       "      <td>7.8</td>\n",
       "      <td>0.880</td>\n",
       "      <td>0.00</td>\n",
       "      <td>2.6</td>\n",
       "      <td>0.098</td>\n",
       "      <td>25.0</td>\n",
       "      <td>67.0</td>\n",
       "      <td>0.99680</td>\n",
       "      <td>3.200000</td>\n",
       "      <td>0.68</td>\n",
       "      <td>9.8</td>\n",
       "      <td>5.0</td>\n",
       "    </tr>\n",
       "    <tr>\n",
       "      <th>2</th>\n",
       "      <td>3</td>\n",
       "      <td>7.8</td>\n",
       "      <td>0.760</td>\n",
       "      <td>0.04</td>\n",
       "      <td>2.3</td>\n",
       "      <td>0.092</td>\n",
       "      <td>15.0</td>\n",
       "      <td>54.0</td>\n",
       "      <td>0.99700</td>\n",
       "      <td>3.311106</td>\n",
       "      <td>0.65</td>\n",
       "      <td>9.8</td>\n",
       "      <td>5.0</td>\n",
       "    </tr>\n",
       "    <tr>\n",
       "      <th>3</th>\n",
       "      <td>4</td>\n",
       "      <td>11.2</td>\n",
       "      <td>0.280</td>\n",
       "      <td>0.56</td>\n",
       "      <td>1.9</td>\n",
       "      <td>0.075</td>\n",
       "      <td>17.0</td>\n",
       "      <td>60.0</td>\n",
       "      <td>0.99800</td>\n",
       "      <td>3.160000</td>\n",
       "      <td>0.58</td>\n",
       "      <td>9.8</td>\n",
       "      <td>6.0</td>\n",
       "    </tr>\n",
       "    <tr>\n",
       "      <th>4</th>\n",
       "      <td>5</td>\n",
       "      <td>7.4</td>\n",
       "      <td>0.700</td>\n",
       "      <td>0.00</td>\n",
       "      <td>1.9</td>\n",
       "      <td>0.076</td>\n",
       "      <td>11.0</td>\n",
       "      <td>34.0</td>\n",
       "      <td>0.99780</td>\n",
       "      <td>3.510000</td>\n",
       "      <td>0.56</td>\n",
       "      <td>9.4</td>\n",
       "      <td>5.0</td>\n",
       "    </tr>\n",
       "    <tr>\n",
       "      <th>...</th>\n",
       "      <td>...</td>\n",
       "      <td>...</td>\n",
       "      <td>...</td>\n",
       "      <td>...</td>\n",
       "      <td>...</td>\n",
       "      <td>...</td>\n",
       "      <td>...</td>\n",
       "      <td>...</td>\n",
       "      <td>...</td>\n",
       "      <td>...</td>\n",
       "      <td>...</td>\n",
       "      <td>...</td>\n",
       "      <td>...</td>\n",
       "    </tr>\n",
       "    <tr>\n",
       "      <th>1596</th>\n",
       "      <td>1597</td>\n",
       "      <td>5.9</td>\n",
       "      <td>0.550</td>\n",
       "      <td>0.10</td>\n",
       "      <td>2.2</td>\n",
       "      <td>0.062</td>\n",
       "      <td>39.0</td>\n",
       "      <td>51.0</td>\n",
       "      <td>0.99512</td>\n",
       "      <td>3.520000</td>\n",
       "      <td>0.76</td>\n",
       "      <td>11.2</td>\n",
       "      <td>6.0</td>\n",
       "    </tr>\n",
       "    <tr>\n",
       "      <th>1597</th>\n",
       "      <td>1598</td>\n",
       "      <td>6.3</td>\n",
       "      <td>0.510</td>\n",
       "      <td>0.13</td>\n",
       "      <td>2.3</td>\n",
       "      <td>0.076</td>\n",
       "      <td>29.0</td>\n",
       "      <td>40.0</td>\n",
       "      <td>0.99574</td>\n",
       "      <td>3.420000</td>\n",
       "      <td>0.75</td>\n",
       "      <td>11.0</td>\n",
       "      <td>6.0</td>\n",
       "    </tr>\n",
       "    <tr>\n",
       "      <th>1598</th>\n",
       "      <td>1599</td>\n",
       "      <td>5.9</td>\n",
       "      <td>0.645</td>\n",
       "      <td>0.12</td>\n",
       "      <td>2.0</td>\n",
       "      <td>0.075</td>\n",
       "      <td>32.0</td>\n",
       "      <td>44.0</td>\n",
       "      <td>0.99547</td>\n",
       "      <td>3.570000</td>\n",
       "      <td>0.71</td>\n",
       "      <td>10.2</td>\n",
       "      <td>5.0</td>\n",
       "    </tr>\n",
       "    <tr>\n",
       "      <th>1599</th>\n",
       "      <td>1600</td>\n",
       "      <td>6.0</td>\n",
       "      <td>0.310</td>\n",
       "      <td>0.47</td>\n",
       "      <td>3.6</td>\n",
       "      <td>0.067</td>\n",
       "      <td>18.0</td>\n",
       "      <td>42.0</td>\n",
       "      <td>0.99549</td>\n",
       "      <td>3.390000</td>\n",
       "      <td>0.66</td>\n",
       "      <td>11.0</td>\n",
       "      <td>6.0</td>\n",
       "    </tr>\n",
       "    <tr>\n",
       "      <th>1600</th>\n",
       "      <td>1601</td>\n",
       "      <td>7.2</td>\n",
       "      <td>0.390</td>\n",
       "      <td>0.44</td>\n",
       "      <td>2.6</td>\n",
       "      <td>0.066</td>\n",
       "      <td>22.0</td>\n",
       "      <td>48.0</td>\n",
       "      <td>0.99494</td>\n",
       "      <td>3.300000</td>\n",
       "      <td>0.84</td>\n",
       "      <td>11.5</td>\n",
       "      <td>6.0</td>\n",
       "    </tr>\n",
       "  </tbody>\n",
       "</table>\n",
       "<p>1601 rows × 13 columns</p>\n",
       "</div>"
      ],
      "text/plain": [
       "        ID  fixed acidity  volatile acidity  citric acid  residual sugar  \\\n",
       "0        1            7.4             0.700         0.00             1.9   \n",
       "1        2            7.8             0.880         0.00             2.6   \n",
       "2        3            7.8             0.760         0.04             2.3   \n",
       "3        4           11.2             0.280         0.56             1.9   \n",
       "4        5            7.4             0.700         0.00             1.9   \n",
       "...    ...            ...               ...          ...             ...   \n",
       "1596  1597            5.9             0.550         0.10             2.2   \n",
       "1597  1598            6.3             0.510         0.13             2.3   \n",
       "1598  1599            5.9             0.645         0.12             2.0   \n",
       "1599  1600            6.0             0.310         0.47             3.6   \n",
       "1600  1601            7.2             0.390         0.44             2.6   \n",
       "\n",
       "      chlorides  free sulfur dioxide  total sulfur dioxide  density        pH  \\\n",
       "0         0.076                 11.0                  34.0  0.99780  3.510000   \n",
       "1         0.098                 25.0                  67.0  0.99680  3.200000   \n",
       "2         0.092                 15.0                  54.0  0.99700  3.311106   \n",
       "3         0.075                 17.0                  60.0  0.99800  3.160000   \n",
       "4         0.076                 11.0                  34.0  0.99780  3.510000   \n",
       "...         ...                  ...                   ...      ...       ...   \n",
       "1596      0.062                 39.0                  51.0  0.99512  3.520000   \n",
       "1597      0.076                 29.0                  40.0  0.99574  3.420000   \n",
       "1598      0.075                 32.0                  44.0  0.99547  3.570000   \n",
       "1599      0.067                 18.0                  42.0  0.99549  3.390000   \n",
       "1600      0.066                 22.0                  48.0  0.99494  3.300000   \n",
       "\n",
       "      sulphates  alcohol  quality  \n",
       "0          0.56      9.4      5.0  \n",
       "1          0.68      9.8      5.0  \n",
       "2          0.65      9.8      5.0  \n",
       "3          0.58      9.8      6.0  \n",
       "4          0.56      9.4      5.0  \n",
       "...         ...      ...      ...  \n",
       "1596       0.76     11.2      6.0  \n",
       "1597       0.75     11.0      6.0  \n",
       "1598       0.71     10.2      5.0  \n",
       "1599       0.66     11.0      6.0  \n",
       "1600       0.84     11.5      6.0  \n",
       "\n",
       "[1601 rows x 13 columns]"
      ]
     },
     "execution_count": 182,
     "metadata": {},
     "output_type": "execute_result"
    }
   ],
   "source": [
    "df"
   ]
  },
  {
   "cell_type": "code",
   "execution_count": 183,
   "id": "f3edd261",
   "metadata": {},
   "outputs": [
    {
     "name": "stdout",
     "output_type": "stream",
     "text": [
      "<class 'pandas.core.frame.DataFrame'>\n",
      "RangeIndex: 1601 entries, 0 to 1600\n",
      "Data columns (total 13 columns):\n",
      " #   Column                Non-Null Count  Dtype  \n",
      "---  ------                --------------  -----  \n",
      " 0   ID                    1601 non-null   int64  \n",
      " 1   fixed acidity         1601 non-null   float64\n",
      " 2   volatile acidity      1601 non-null   float64\n",
      " 3   citric acid           1601 non-null   float64\n",
      " 4   residual sugar        1601 non-null   float64\n",
      " 5   chlorides             1601 non-null   float64\n",
      " 6   free sulfur dioxide   1601 non-null   float64\n",
      " 7   total sulfur dioxide  1601 non-null   float64\n",
      " 8   density               1601 non-null   float64\n",
      " 9   pH                    1601 non-null   float64\n",
      " 10  sulphates             1601 non-null   float64\n",
      " 11  alcohol               1601 non-null   float64\n",
      " 12  quality               1601 non-null   float64\n",
      "dtypes: float64(12), int64(1)\n",
      "memory usage: 162.7 KB\n"
     ]
    }
   ],
   "source": [
    "df.info()"
   ]
  },
  {
   "cell_type": "code",
   "execution_count": 184,
   "id": "c23282c4",
   "metadata": {},
   "outputs": [
    {
     "data": {
      "text/html": [
       "<div>\n",
       "<style scoped>\n",
       "    .dataframe tbody tr th:only-of-type {\n",
       "        vertical-align: middle;\n",
       "    }\n",
       "\n",
       "    .dataframe tbody tr th {\n",
       "        vertical-align: top;\n",
       "    }\n",
       "\n",
       "    .dataframe thead th {\n",
       "        text-align: right;\n",
       "    }\n",
       "</style>\n",
       "<table border=\"1\" class=\"dataframe\">\n",
       "  <thead>\n",
       "    <tr style=\"text-align: right;\">\n",
       "      <th></th>\n",
       "      <th>ID</th>\n",
       "      <th>fixed acidity</th>\n",
       "      <th>volatile acidity</th>\n",
       "      <th>citric acid</th>\n",
       "      <th>residual sugar</th>\n",
       "      <th>chlorides</th>\n",
       "      <th>free sulfur dioxide</th>\n",
       "      <th>total sulfur dioxide</th>\n",
       "      <th>density</th>\n",
       "      <th>pH</th>\n",
       "      <th>sulphates</th>\n",
       "      <th>alcohol</th>\n",
       "      <th>quality</th>\n",
       "    </tr>\n",
       "  </thead>\n",
       "  <tbody>\n",
       "    <tr>\n",
       "      <th>count</th>\n",
       "      <td>1601.000000</td>\n",
       "      <td>1601.000000</td>\n",
       "      <td>1601.000000</td>\n",
       "      <td>1601.000000</td>\n",
       "      <td>1601.000000</td>\n",
       "      <td>1601.000000</td>\n",
       "      <td>1601.000000</td>\n",
       "      <td>1601.000000</td>\n",
       "      <td>1601.000000</td>\n",
       "      <td>1601.000000</td>\n",
       "      <td>1601.000000</td>\n",
       "      <td>1601.000000</td>\n",
       "      <td>1601.000000</td>\n",
       "    </tr>\n",
       "    <tr>\n",
       "      <th>mean</th>\n",
       "      <td>801.000000</td>\n",
       "      <td>8.319875</td>\n",
       "      <td>0.527742</td>\n",
       "      <td>0.271175</td>\n",
       "      <td>2.538445</td>\n",
       "      <td>0.087487</td>\n",
       "      <td>15.886875</td>\n",
       "      <td>46.520000</td>\n",
       "      <td>0.996746</td>\n",
       "      <td>3.311106</td>\n",
       "      <td>0.658220</td>\n",
       "      <td>10.423204</td>\n",
       "      <td>5.636250</td>\n",
       "    </tr>\n",
       "    <tr>\n",
       "      <th>std</th>\n",
       "      <td>462.313206</td>\n",
       "      <td>1.739495</td>\n",
       "      <td>0.178981</td>\n",
       "      <td>0.194684</td>\n",
       "      <td>1.409138</td>\n",
       "      <td>0.047032</td>\n",
       "      <td>10.455218</td>\n",
       "      <td>32.967416</td>\n",
       "      <td>0.001887</td>\n",
       "      <td>0.154290</td>\n",
       "      <td>0.169471</td>\n",
       "      <td>1.065495</td>\n",
       "      <td>0.807116</td>\n",
       "    </tr>\n",
       "    <tr>\n",
       "      <th>min</th>\n",
       "      <td>1.000000</td>\n",
       "      <td>4.600000</td>\n",
       "      <td>0.120000</td>\n",
       "      <td>0.000000</td>\n",
       "      <td>0.900000</td>\n",
       "      <td>0.012000</td>\n",
       "      <td>1.000000</td>\n",
       "      <td>6.000000</td>\n",
       "      <td>0.990070</td>\n",
       "      <td>2.740000</td>\n",
       "      <td>0.330000</td>\n",
       "      <td>8.400000</td>\n",
       "      <td>3.000000</td>\n",
       "    </tr>\n",
       "    <tr>\n",
       "      <th>25%</th>\n",
       "      <td>401.000000</td>\n",
       "      <td>7.100000</td>\n",
       "      <td>0.390000</td>\n",
       "      <td>0.090000</td>\n",
       "      <td>1.900000</td>\n",
       "      <td>0.070000</td>\n",
       "      <td>7.000000</td>\n",
       "      <td>22.000000</td>\n",
       "      <td>0.995600</td>\n",
       "      <td>3.210000</td>\n",
       "      <td>0.550000</td>\n",
       "      <td>9.500000</td>\n",
       "      <td>5.000000</td>\n",
       "    </tr>\n",
       "    <tr>\n",
       "      <th>50%</th>\n",
       "      <td>801.000000</td>\n",
       "      <td>7.900000</td>\n",
       "      <td>0.520000</td>\n",
       "      <td>0.260000</td>\n",
       "      <td>2.200000</td>\n",
       "      <td>0.079000</td>\n",
       "      <td>14.000000</td>\n",
       "      <td>38.000000</td>\n",
       "      <td>0.996750</td>\n",
       "      <td>3.310000</td>\n",
       "      <td>0.620000</td>\n",
       "      <td>10.200000</td>\n",
       "      <td>6.000000</td>\n",
       "    </tr>\n",
       "    <tr>\n",
       "      <th>75%</th>\n",
       "      <td>1201.000000</td>\n",
       "      <td>9.200000</td>\n",
       "      <td>0.640000</td>\n",
       "      <td>0.420000</td>\n",
       "      <td>2.600000</td>\n",
       "      <td>0.090000</td>\n",
       "      <td>21.000000</td>\n",
       "      <td>62.000000</td>\n",
       "      <td>0.997830</td>\n",
       "      <td>3.400000</td>\n",
       "      <td>0.730000</td>\n",
       "      <td>11.100000</td>\n",
       "      <td>6.000000</td>\n",
       "    </tr>\n",
       "    <tr>\n",
       "      <th>max</th>\n",
       "      <td>1601.000000</td>\n",
       "      <td>15.900000</td>\n",
       "      <td>1.580000</td>\n",
       "      <td>1.000000</td>\n",
       "      <td>15.500000</td>\n",
       "      <td>0.611000</td>\n",
       "      <td>72.000000</td>\n",
       "      <td>289.000000</td>\n",
       "      <td>1.003690</td>\n",
       "      <td>4.010000</td>\n",
       "      <td>2.000000</td>\n",
       "      <td>14.900000</td>\n",
       "      <td>8.000000</td>\n",
       "    </tr>\n",
       "  </tbody>\n",
       "</table>\n",
       "</div>"
      ],
      "text/plain": [
       "                ID  fixed acidity  volatile acidity  citric acid  \\\n",
       "count  1601.000000    1601.000000       1601.000000  1601.000000   \n",
       "mean    801.000000       8.319875          0.527742     0.271175   \n",
       "std     462.313206       1.739495          0.178981     0.194684   \n",
       "min       1.000000       4.600000          0.120000     0.000000   \n",
       "25%     401.000000       7.100000          0.390000     0.090000   \n",
       "50%     801.000000       7.900000          0.520000     0.260000   \n",
       "75%    1201.000000       9.200000          0.640000     0.420000   \n",
       "max    1601.000000      15.900000          1.580000     1.000000   \n",
       "\n",
       "       residual sugar    chlorides  free sulfur dioxide  total sulfur dioxide  \\\n",
       "count     1601.000000  1601.000000          1601.000000           1601.000000   \n",
       "mean         2.538445     0.087487            15.886875             46.520000   \n",
       "std          1.409138     0.047032            10.455218             32.967416   \n",
       "min          0.900000     0.012000             1.000000              6.000000   \n",
       "25%          1.900000     0.070000             7.000000             22.000000   \n",
       "50%          2.200000     0.079000            14.000000             38.000000   \n",
       "75%          2.600000     0.090000            21.000000             62.000000   \n",
       "max         15.500000     0.611000            72.000000            289.000000   \n",
       "\n",
       "           density           pH    sulphates      alcohol      quality  \n",
       "count  1601.000000  1601.000000  1601.000000  1601.000000  1601.000000  \n",
       "mean      0.996746     3.311106     0.658220    10.423204     5.636250  \n",
       "std       0.001887     0.154290     0.169471     1.065495     0.807116  \n",
       "min       0.990070     2.740000     0.330000     8.400000     3.000000  \n",
       "25%       0.995600     3.210000     0.550000     9.500000     5.000000  \n",
       "50%       0.996750     3.310000     0.620000    10.200000     6.000000  \n",
       "75%       0.997830     3.400000     0.730000    11.100000     6.000000  \n",
       "max       1.003690     4.010000     2.000000    14.900000     8.000000  "
      ]
     },
     "execution_count": 184,
     "metadata": {},
     "output_type": "execute_result"
    }
   ],
   "source": [
    "df.describe()"
   ]
  },
  {
   "cell_type": "code",
   "execution_count": 185,
   "id": "c3910438",
   "metadata": {},
   "outputs": [
    {
     "data": {
      "text/plain": [
       "<Axes: xlabel='pH', ylabel='Count'>"
      ]
     },
     "execution_count": 185,
     "metadata": {},
     "output_type": "execute_result"
    },
    {
     "data": {
      "image/png": "[encoded data removed]",
      "text/plain": [
       "<Figure size 640x480 with 1 Axes>"
      ]
     },
     "metadata": {},
     "output_type": "display_data"
    }
   ],
   "source": [
    "sns.histplot(df.pH)"
   ]
  },
  {
   "cell_type": "code",
   "execution_count": 186,
   "id": "29865b7a",
   "metadata": {},
   "outputs": [
    {
     "data": {
      "text/plain": [
       "3.3111062500000004"
      ]
     },
     "execution_count": 186,
     "metadata": {},
     "output_type": "execute_result"
    }
   ],
   "source": [
    "mean_pH\n"
   ]
  },
  {
   "cell_type": "code",
   "execution_count": 187,
   "id": "9d122650",
   "metadata": {},
   "outputs": [
    {
     "data": {
      "text/plain": [
       "False    824\n",
       "True     777\n",
       "Name: pH, dtype: int64"
      ]
     },
     "execution_count": 187,
     "metadata": {},
     "output_type": "execute_result"
    }
   ],
   "source": [
    "x= df.pH>mean_pH\n",
    "x.value_counts()"
   ]
  },
  {
   "cell_type": "code",
   "execution_count": 188,
   "id": "20c23834",
   "metadata": {},
   "outputs": [
    {
     "data": {
      "text/plain": [
       "<matplotlib.legend.Legend at 0x25fc10a1e50>"
      ]
     },
     "execution_count": 188,
     "metadata": {},
     "output_type": "execute_result"
    },
    {
     "data": {
      "image/png": "[encoded data removed]",
      "text/plain": [
       "<Figure size 640x480 with 1 Axes>"
      ]
     },
     "metadata": {},
     "output_type": "display_data"
    }
   ],
   "source": [
    "plt.pie(x.value_counts(), labels=x.value_counts())\n",
    "plt.legend()"
   ]
  },
  {
   "cell_type": "code",
   "execution_count": 189,
   "id": "8611d5c8",
   "metadata": {},
   "outputs": [
    {
     "data": {
      "text/plain": [
       "<matplotlib.legend.Legend at 0x25fc07ac4d0>"
      ]
     },
     "execution_count": 189,
     "metadata": {},
     "output_type": "execute_result"
    },
    {
     "data": {
      "image/png": "[encoded data removed]",
      "text/plain": [
       "<Figure size 640x480 with 1 Axes>"
      ]
     },
     "metadata": {},
     "output_type": "display_data"
    }
   ],
   "source": [
    "\n",
    "q= df.quality>mean_Q\n",
    "q.value_counts()\n",
    "\n",
    "plt.pie(x.value_counts(), labels=q.value_counts())\n",
    "plt.legend()"
   ]
  },
  {
   "cell_type": "code",
   "execution_count": 190,
   "id": "5c549d5a",
   "metadata": {},
   "outputs": [
    {
     "data": {
      "text/plain": [
       "5.63625"
      ]
     },
     "execution_count": 190,
     "metadata": {},
     "output_type": "execute_result"
    }
   ],
   "source": [
    "mean_Q"
   ]
  },
  {
   "cell_type": "code",
   "execution_count": 191,
   "id": "7508e727",
   "metadata": {},
   "outputs": [
    {
     "data": {
      "text/plain": [
       "<Axes: xlabel='acidity-basic', ylabel='pH'>"
      ]
     },
     "execution_count": 191,
     "metadata": {},
     "output_type": "execute_result"
    },
    {
     "data": {
      "image/png": "[encoded data removed]",
      "text/plain": [
       "<Figure size 640x480 with 2 Axes>"
      ]
     },
     "metadata": {},
     "output_type": "display_data"
    }
   ],
   "source": [
    "\n",
    "\n",
    "df['acidity'] = df['pH'] < 7\n",
    "df['basic'] = df['pH'] > 7\n",
    "\n",
    "pivot_table = df.pivot_table(index='pH', columns=['acidity', 'basic'], values='alcohol')\n",
    "\n",
    "\n",
    "sns.heatmap(pivot_table, cmap='coolwarm')\n"
   ]
  },
  {
   "cell_type": "code",
   "execution_count": 192,
   "id": "953e91b9",
   "metadata": {},
   "outputs": [
    {
     "data": {
      "image/png": "[encoded data removed]",
      "text/plain": [
       "<Figure size 640x480 with 2 Axes>"
      ]
     },
     "metadata": {},
     "output_type": "display_data"
    }
   ],
   "source": [
    "corr = df.corr()\n",
    "\n",
    "\n",
    "sns.heatmap(corr, cmap='coolwarm', annot=True)\n",
    "plt.title('Correlation Matrix')\n",
    "plt.show()"
   ]
  },
  {
   "cell_type": "code",
   "execution_count": 193,
   "id": "25c00d55",
   "metadata": {},
   "outputs": [
    {
     "data": {
      "image/png": "[encoded data removed]",
      "text/plain": [
       "<Figure size 640x480 with 1 Axes>"
      ]
     },
     "metadata": {},
     "output_type": "display_data"
    }
   ],
   "source": [
    "sns.scatterplot(x='quality', y='pH', data=df)\n",
    "plt.show()\n"
   ]
  },
  {
   "cell_type": "code",
   "execution_count": 194,
   "id": "ce0e7823",
   "metadata": {},
   "outputs": [
    {
     "name": "stdout",
     "output_type": "stream",
     "text": [
      "Intercept: 3.3737427843498327\n",
      "Coefficient: [-0.01111316]\n"
     ]
    }
   ],
   "source": [
    "X = df[['quality']]\n",
    "y = df['pH']\n",
    "model = LinearRegression()\n",
    "model.fit(X, y)\n",
    "print(\"Intercept:\", model.intercept_)\n",
    "print(\"Coefficient:\", model.coef_)\n",
    "plt.show()"
   ]
  },
  {
   "cell_type": "code",
   "execution_count": 195,
   "id": "8c7d5bd3",
   "metadata": {},
   "outputs": [
    {
     "name": "stdout",
     "output_type": "stream",
     "text": [
      "mean_Q: 5.6362499999999995\n",
      "Standard Deviation of pH: 0.15424200008207614\n",
      "Correlation between quality and pH: -0.05813464248687872\n"
     ]
    }
   ],
   "source": [
    "print(\"mean_Q:\", np.mean(df['quality']))\n",
    "print(\"Standard Deviation of pH:\", np.std(df['pH']))\n",
    "print(\"Correlation between quality and pH:\", df['quality'].corr(df['pH']))"
   ]
  },
  {
   "cell_type": "markdown",
   "id": "6a62120c",
   "metadata": {},
   "source": [
    "### Statistical inferences of individual columns in  the  dataset."
   ]
  },
  {
   "cell_type": "markdown",
   "id": "a8c3a987",
   "metadata": {},
   "source": [
    "#### For Wine Quality"
   ]
  },
  {
   "cell_type": "code",
   "execution_count": 196,
   "id": "1d21cb74",
   "metadata": {},
   "outputs": [
    {
     "data": {
      "text/plain": [
       "count    1601.000000\n",
       "mean        5.636250\n",
       "std         0.807116\n",
       "min         3.000000\n",
       "25%         5.000000\n",
       "50%         6.000000\n",
       "75%         6.000000\n",
       "max         8.000000\n",
       "Name: quality, dtype: float64"
      ]
     },
     "execution_count": 196,
     "metadata": {},
     "output_type": "execute_result"
    }
   ],
   "source": [
    "df['quality'].describe()\n",
    "\n"
   ]
  },
  {
   "cell_type": "markdown",
   "id": "3d8b1d7a",
   "metadata": {},
   "source": [
    "#### For pH"
   ]
  },
  {
   "cell_type": "code",
   "execution_count": 197,
   "id": "c799ebf3",
   "metadata": {},
   "outputs": [
    {
     "data": {
      "text/plain": [
       "count    1601.000000\n",
       "mean        3.311106\n",
       "std         0.154290\n",
       "min         2.740000\n",
       "25%         3.210000\n",
       "50%         3.310000\n",
       "75%         3.400000\n",
       "max         4.010000\n",
       "Name: pH, dtype: float64"
      ]
     },
     "execution_count": 197,
     "metadata": {},
     "output_type": "execute_result"
    }
   ],
   "source": [
    "df['pH'].describe()"
   ]
  },
  {
   "cell_type": "markdown",
   "id": "d4216450",
   "metadata": {},
   "source": [
    "  #### For alcoholic content of the wine  manufactured"
   ]
  },
  {
   "cell_type": "code",
   "execution_count": 198,
   "id": "9c73a64a",
   "metadata": {},
   "outputs": [
    {
     "data": {
      "text/plain": [
       "count    1601.000000\n",
       "mean       10.423204\n",
       "std         1.065495\n",
       "min         8.400000\n",
       "25%         9.500000\n",
       "50%        10.200000\n",
       "75%        11.100000\n",
       "max        14.900000\n",
       "Name: alcohol, dtype: float64"
      ]
     },
     "execution_count": 198,
     "metadata": {},
     "output_type": "execute_result"
    }
   ],
   "source": [
    "df['alcohol'].describe()"
   ]
  },
  {
   "cell_type": "markdown",
   "id": "4d984cc5",
   "metadata": {},
   "source": [
    "#### for the fixed acidity of the  wine produced"
   ]
  },
  {
   "cell_type": "code",
   "execution_count": 199,
   "id": "cba4ba49",
   "metadata": {},
   "outputs": [
    {
     "data": {
      "text/plain": [
       "count    1601.000000\n",
       "mean        8.319875\n",
       "std         1.739495\n",
       "min         4.600000\n",
       "25%         7.100000\n",
       "50%         7.900000\n",
       "75%         9.200000\n",
       "max        15.900000\n",
       "Name: fixed acidity, dtype: float64"
      ]
     },
     "execution_count": 199,
     "metadata": {},
     "output_type": "execute_result"
    }
   ],
   "source": [
    "df['fixed acidity'].describe()\n"
   ]
  },
  {
   "cell_type": "markdown",
   "id": "3d749989",
   "metadata": {},
   "source": [
    "#### for the volatile acidity of the wines"
   ]
  },
  {
   "cell_type": "code",
   "execution_count": 200,
   "id": "1650aa98",
   "metadata": {},
   "outputs": [
    {
     "data": {
      "text/plain": [
       "count    1601.000000\n",
       "mean        0.527742\n",
       "std         0.178981\n",
       "min         0.120000\n",
       "25%         0.390000\n",
       "50%         0.520000\n",
       "75%         0.640000\n",
       "max         1.580000\n",
       "Name: volatile acidity, dtype: float64"
      ]
     },
     "execution_count": 200,
     "metadata": {},
     "output_type": "execute_result"
    }
   ],
   "source": [
    "df['volatile acidity'].describe()"
   ]
  },
  {
   "cell_type": "markdown",
   "id": "8549f757",
   "metadata": {},
   "source": [
    " #### For citric acid "
   ]
  },
  {
   "cell_type": "code",
   "execution_count": 201,
   "id": "8a41d110",
   "metadata": {},
   "outputs": [
    {
     "data": {
      "text/plain": [
       "count    1601.000000\n",
       "mean        0.271175\n",
       "std         0.194684\n",
       "min         0.000000\n",
       "25%         0.090000\n",
       "50%         0.260000\n",
       "75%         0.420000\n",
       "max         1.000000\n",
       "Name: citric acid, dtype: float64"
      ]
     },
     "execution_count": 201,
     "metadata": {},
     "output_type": "execute_result"
    }
   ],
   "source": [
    "df['citric acid'].describe()\n"
   ]
  },
  {
   "cell_type": "markdown",
   "id": "7a24f14c",
   "metadata": {},
   "source": [
    "#### For Residual sugar"
   ]
  },
  {
   "cell_type": "code",
   "execution_count": 202,
   "id": "31f44213",
   "metadata": {},
   "outputs": [
    {
     "data": {
      "text/plain": [
       "count    1601.000000\n",
       "mean        2.538445\n",
       "std         1.409138\n",
       "min         0.900000\n",
       "25%         1.900000\n",
       "50%         2.200000\n",
       "75%         2.600000\n",
       "max        15.500000\n",
       "Name: residual sugar, dtype: float64"
      ]
     },
     "execution_count": 202,
     "metadata": {},
     "output_type": "execute_result"
    }
   ],
   "source": [
    "df['residual sugar'].describe()\n"
   ]
  },
  {
   "cell_type": "markdown",
   "id": "d9e1130f",
   "metadata": {},
   "source": [
    " #### For Chlorides"
   ]
  },
  {
   "cell_type": "code",
   "execution_count": 203,
   "id": "33d32be3",
   "metadata": {},
   "outputs": [
    {
     "data": {
      "text/plain": [
       "count    1601.000000\n",
       "mean        0.087487\n",
       "std         0.047032\n",
       "min         0.012000\n",
       "25%         0.070000\n",
       "50%         0.079000\n",
       "75%         0.090000\n",
       "max         0.611000\n",
       "Name: chlorides, dtype: float64"
      ]
     },
     "execution_count": 203,
     "metadata": {},
     "output_type": "execute_result"
    }
   ],
   "source": [
    "df['chlorides'].describe()"
   ]
  },
  {
   "cell_type": "markdown",
   "id": "87293ad7",
   "metadata": {},
   "source": [
    "####  For Free Sulphur dioxide"
   ]
  },
  {
   "cell_type": "code",
   "execution_count": 204,
   "id": "8ba5e274",
   "metadata": {},
   "outputs": [
    {
     "data": {
      "text/plain": [
       "count    1601.000000\n",
       "mean       15.886875\n",
       "std        10.455218\n",
       "min         1.000000\n",
       "25%         7.000000\n",
       "50%        14.000000\n",
       "75%        21.000000\n",
       "max        72.000000\n",
       "Name: free sulfur dioxide, dtype: float64"
      ]
     },
     "execution_count": 204,
     "metadata": {},
     "output_type": "execute_result"
    }
   ],
   "source": [
    "df['free sulfur dioxide'].describe()"
   ]
  },
  {
   "cell_type": "markdown",
   "id": "600ed8ce",
   "metadata": {},
   "source": [
    "#### For Total Sulphur dioxide"
   ]
  },
  {
   "cell_type": "code",
   "execution_count": 205,
   "id": "2ba0573d",
   "metadata": {},
   "outputs": [
    {
     "data": {
      "text/plain": [
       "count    1601.000000\n",
       "mean       46.520000\n",
       "std        32.967416\n",
       "min         6.000000\n",
       "25%        22.000000\n",
       "50%        38.000000\n",
       "75%        62.000000\n",
       "max       289.000000\n",
       "Name: total sulfur dioxide, dtype: float64"
      ]
     },
     "execution_count": 205,
     "metadata": {},
     "output_type": "execute_result"
    }
   ],
   "source": [
    "df['total sulfur dioxide'].describe()"
   ]
  },
  {
   "cell_type": "markdown",
   "id": "e4e52b34",
   "metadata": {},
   "source": [
    "#### For Density"
   ]
  },
  {
   "cell_type": "code",
   "execution_count": 206,
   "id": "1a7e41f3",
   "metadata": {},
   "outputs": [
    {
     "data": {
      "text/plain": [
       "count    1601.000000\n",
       "mean        0.996746\n",
       "std         0.001887\n",
       "min         0.990070\n",
       "25%         0.995600\n",
       "50%         0.996750\n",
       "75%         0.997830\n",
       "max         1.003690\n",
       "Name: density, dtype: float64"
      ]
     },
     "execution_count": 206,
     "metadata": {},
     "output_type": "execute_result"
    }
   ],
   "source": [
    "df['density'].describe()"
   ]
  },
  {
   "cell_type": "markdown",
   "id": "64268e72",
   "metadata": {},
   "source": [
    "#### For Sulphates"
   ]
  },
  {
   "cell_type": "code",
   "execution_count": 207,
   "id": "9a4bda5f",
   "metadata": {},
   "outputs": [
    {
     "data": {
      "text/plain": [
       "count    1601.000000\n",
       "mean        0.658220\n",
       "std         0.169471\n",
       "min         0.330000\n",
       "25%         0.550000\n",
       "50%         0.620000\n",
       "75%         0.730000\n",
       "max         2.000000\n",
       "Name: sulphates, dtype: float64"
      ]
     },
     "execution_count": 207,
     "metadata": {},
     "output_type": "execute_result"
    }
   ],
   "source": [
    "df['sulphates'].describe()"
   ]
  },
  {
   "cell_type": "markdown",
   "id": "0574a6d8",
   "metadata": {},
   "source": [
    "##### the graph below show alcoholic content of the various wines  manufactured\n"
   ]
  },
  {
   "cell_type": "code",
   "execution_count": 208,
   "id": "c9cb745b",
   "metadata": {},
   "outputs": [
    {
     "data": {
      "text/plain": [
       "<Axes: xlabel='alcohol', ylabel='Count'>"
      ]
     },
     "execution_count": 208,
     "metadata": {},
     "output_type": "execute_result"
    },
    {
     "data": {
      "image/png": "[encoded data removed]",
      "text/plain": [
       "<Figure size 640x480 with 1 Axes>"
      ]
     },
     "metadata": {},
     "output_type": "display_data"
    }
   ],
   "source": [
    "sns.histplot(df.alcohol)"
   ]
  },
  {
   "cell_type": "markdown",
   "id": "76bbad28",
   "metadata": {},
   "source": [
    "### CONSIDERING THE RESIDUAL SUGAR CONTENT OF THE WINES MANUFACTUREED"
   ]
  },
  {
   "cell_type": "code",
   "execution_count": 209,
   "id": "34c7c55d",
   "metadata": {},
   "outputs": [
    {
     "name": "stdout",
     "output_type": "stream",
     "text": [
      "The mean residual sugar of the wines is 2.538445.\n"
     ]
    }
   ],
   "source": [
    "mean_RS=df[\"residual sugar\"].mean()\n",
    "mean_RS\n",
    "print(\"The mean residual sugar of the wines is {:.6f}.\".format(mean_RS))"
   ]
  },
  {
   "cell_type": "code",
   "execution_count": 210,
   "id": "0178e953",
   "metadata": {},
   "outputs": [
    {
     "data": {
      "text/plain": [
       "True    1601\n",
       "Name: alcohol, dtype: int64"
      ]
     },
     "execution_count": 210,
     "metadata": {},
     "output_type": "execute_result"
    }
   ],
   "source": [
    "\n",
    "R= df.alcohol>mean_RS\n",
    "R.value_counts()\n",
    "\n"
   ]
  },
  {
   "cell_type": "code",
   "execution_count": 211,
   "id": "0cc09a9c",
   "metadata": {},
   "outputs": [
    {
     "data": {
      "image/png": "[encoded data removed]",
      "text/plain": [
       "<Figure size 640x480 with 1 Axes>"
      ]
     },
     "metadata": {},
     "output_type": "display_data"
    }
   ],
   "source": [
    "mean_RS = df['residual sugar'].mean()\n",
    "R = df['residual sugar'] > mean_RS\n",
    "counts = R.value_counts()\n",
    "\n",
    "plt.pie(counts, labels=['Above Mean', 'Below Mean'])\n",
    "\n",
    "plt.title('Residual sugar Content Above/Below Mean')\n",
    "plt.legend()\n",
    "plt.show()"
   ]
  },
  {
   "cell_type": "code",
   "execution_count": 212,
   "id": "4ee0e5f3",
   "metadata": {},
   "outputs": [
    {
     "data": {
      "text/plain": [
       "ID                      False\n",
       "fixed acidity           False\n",
       "volatile acidity        False\n",
       "citric acid             False\n",
       "residual sugar          False\n",
       "chlorides               False\n",
       "free sulfur dioxide     False\n",
       "total sulfur dioxide    False\n",
       "density                 False\n",
       "pH                      False\n",
       "sulphates               False\n",
       "alcohol                 False\n",
       "quality                 False\n",
       "acidity                 False\n",
       "basic                   False\n",
       "dtype: bool"
      ]
     },
     "execution_count": 212,
     "metadata": {},
     "output_type": "execute_result"
    }
   ],
   "source": [
    "df.isnull().any()"
   ]
  },
  {
   "cell_type": "code",
   "execution_count": null,
   "id": "2f23e3bb",
   "metadata": {},
   "outputs": [],
   "source": []
  }
 ],
 "metadata": {
  "kernelspec": {
   "display_name": "Python 3 (ipykernel)",
   "language": "python",
   "name": "python3"
  },
  "language_info": {
   "codemirror_mode": {
    "name": "ipython",
    "version": 3
   },
   "file_extension": ".py",
   "mimetype": "text/x-python",
   "name": "python",
   "nbconvert_exporter": "python",
   "pygments_lexer": "ipython3",
   "version": "3.11.1"
  }
 },
 "nbformat": 4,
 "nbformat_minor": 5
}
