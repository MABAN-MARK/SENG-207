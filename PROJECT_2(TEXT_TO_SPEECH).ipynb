{
 "cells": [
  {
   "cell_type": "code",
   "execution_count": 2,
   "id": "6e42728a",
   "metadata": {},
   "outputs": [],
   "source": [
    "import pyttsx3\n",
    "import PySimpleGUI as sg\n",
    "\n",
    "# initialize the engine\n",
    "engine = pyttsx3.init()\n",
    "\n",
    "# get available voices\n",
    "voices = engine.getProperty('voices')\n",
    "\n",
    "# assigning  voices\n",
    "male_voice = voices[0].id\n",
    "female_voice = voices[1].id\n",
    "\n",
    "# define the layout of the GUI\n",
    "layout = [\n",
    "    [sg.Text(\"Enter text to speak:\")],\n",
    "    [sg.InputText(key=\"-INPUT-\")],\n",
    "    [sg.Text(\"Select voice:\")],\n",
    "    [sg.Radio(\"Male\", \"RADIO1\", default=True, key=\"-MALE-\"), sg.Radio(\"Female\", \"RADIO1\", key=\"-FEMALE-\")],\n",
    "    [sg.Button(\"Speak\"), sg.Button(\"Exit\")]\n",
    "]\n",
    "\n",
    "# create the window\n",
    "window = sg.Window(\"Text-to-Speech App\", layout)\n",
    "\n",
    "# main event loop\n",
    "while True:\n",
    "    event, values = window.read()\n",
    "    if event == sg.WIN_CLOSED or event == \"Exit\":\n",
    "        break\n",
    "    text = values[\"-INPUT-\"]\n",
    "    if values[\"-MALE-\"]:\n",
    "        voice = male_voice\n",
    "    else:\n",
    "        voice = female_voice\n",
    "    engine.setProperty('voice', voice)\n",
    "    engine.say(text)\n",
    "    engine.runAndWait()\n",
    "\n",
    "# close the window and the engine\n",
    "window.close()\n",
    "engine.stop()"
   ]
  },
  {
   "cell_type": "code",
   "execution_count": null,
   "id": "bfb8b91f",
   "metadata": {},
   "outputs": [],
   "source": []
  }
 ],
 "metadata": {
  "kernelspec": {
   "display_name": "Python 3 (ipykernel)",
   "language": "python",
   "name": "python3"
  },
  "language_info": {
   "codemirror_mode": {
    "name": "ipython",
    "version": 3
   },
   "file_extension": ".py",
   "mimetype": "text/x-python",
   "name": "python",
   "nbconvert_exporter": "python",
   "pygments_lexer": "ipython3",
   "version": "3.11.1"
  }
 },
 "nbformat": 4,
 "nbformat_minor": 5
}
