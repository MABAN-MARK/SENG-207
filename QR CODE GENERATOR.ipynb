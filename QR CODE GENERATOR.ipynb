{
 "cells": [
  {
   "cell_type": "code",
   "execution_count": 2,
   "id": "da7543aa",
   "metadata": {},
   "outputs": [],
   "source": [
    "import qrcode\n",
    "import PySimpleGUI as sg\n",
    "\n",
    "layout = [\n",
    "    [sg.Text('Enter text to encode:')],\n",
    "    [sg.Input(key='input_text')],\n",
    "    [sg.Button('Generate QR Code'), sg.Button('Exit')]\n",
    "]\n",
    "\n",
    "window = sg.Window('QR Code Generator', layout)\n",
    "\n",
    "while True:\n",
    "    event, values = window.read()\n",
    "    if event == sg.WINDOW_CLOSED or event == 'Exit':\n",
    "        break\n",
    "    if event == 'Generate QR Code':\n",
    "        input_text = values['input_text']\n",
    "        qr = qrcode.QRCode(version=1, box_size=10, border=4)\n",
    "        qr.add_data(input_text)\n",
    "        qr.make(fit=True)\n",
    "        img = qr.make_image(fill_color='black', back_color='white')\n",
    "        filename = sg.popup_get_file('Save QR Code', save_as=True, default_extension='.png')\n",
    "        if filename:\n",
    "            img.save(filename)\n",
    "\n",
    "window.close()"
   ]
  },
  {
   "cell_type": "code",
   "execution_count": null,
   "id": "c3cfca6c",
   "metadata": {},
   "outputs": [],
   "source": []
  }
 ],
 "metadata": {
  "kernelspec": {
   "display_name": "Python 3 (ipykernel)",
   "language": "python",
   "name": "python3"
  },
  "language_info": {
   "codemirror_mode": {
    "name": "ipython",
    "version": 3
   },
   "file_extension": ".py",
   "mimetype": "text/x-python",
   "name": "python",
   "nbconvert_exporter": "python",
   "pygments_lexer": "ipython3",
   "version": "3.11.1"
  }
 },
 "nbformat": 4,
 "nbformat_minor": 5
}
